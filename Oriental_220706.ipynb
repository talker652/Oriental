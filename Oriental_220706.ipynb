{
 "cells": [
  {
   "cell_type": "code",
   "execution_count": 2,
   "metadata": {},
   "outputs": [],
   "source": [
    "from sklearn import datasets, metrics\n",
    "from sklearn.preprocessing import StandardScaler\n",
    "from sklearn.model_selection import train_test_split\n",
    "from sklearn.neighbors import KNeighborsClassifier\n",
    "import pandas as pd\n",
    "import matplotlib.pyplot as plt\n",
    "import matplotlib.cm as cm\n",
    "import numpy as np "
   ]
  },
  {
   "cell_type": "code",
   "execution_count": 3,
   "metadata": {},
   "outputs": [
    {
     "name": "stdout",
     "output_type": "stream",
     "text": [
      "     sepal length (cm)  sepal width (cm)  petal length (cm)  petal width (cm)\n",
      "0                  5.1               3.5                1.4               0.2\n",
      "1                  4.9               3.0                1.4               0.2\n",
      "2                  4.7               3.2                1.3               0.2\n",
      "3                  4.6               3.1                1.5               0.2\n",
      "4                  5.0               3.6                1.4               0.2\n",
      "..                 ...               ...                ...               ...\n",
      "145                6.7               3.0                5.2               2.3\n",
      "146                6.3               2.5                5.0               1.9\n",
      "147                6.5               3.0                5.2               2.0\n",
      "148                6.2               3.4                5.4               2.3\n",
      "149                5.9               3.0                5.1               1.8\n",
      "\n",
      "[150 rows x 4 columns]\n"
     ]
    }
   ],
   "source": [
    "iris = datasets.load_iris()\n",
    "\n",
    "iris_data = iris.data\n",
    "iris_label = iris.target\n",
    "\n",
    "print(pd.DataFrame(data=iris['data'], columns=iris['feature_names']))"
   ]
  },
  {
   "cell_type": "code",
   "execution_count": 4,
   "metadata": {},
   "outputs": [],
   "source": [
    "train_data, test_data, train_label, test_label = train_test_split(iris_data, iris_label, test_size=0.2, shuffle=True)\n",
    "\n",
    "scaler = StandardScaler()\n",
    "scaler.fit(train_data)\n",
    "train_data = scaler.transform(train_data)\n",
    "test_data = scaler.transform(test_data)"
   ]
  },
  {
   "cell_type": "code",
   "execution_count": 5,
   "metadata": {},
   "outputs": [
    {
     "name": "stdout",
     "output_type": "stream",
     "text": [
      "predict / true : 0 / 0\n",
      "predict / true : 1 / 1\n",
      "predict / true : 1 / 1\n",
      "predict / true : 0 / 0\n",
      "predict / true : 1 / 1\n",
      "predict / true : 2 / 2\n",
      "predict / true : 2 / 2\n",
      "predict / true : 1 / 1\n",
      "predict / true : 0 / 0\n",
      "predict / true : 1 / 1\n",
      "predict / true : 1 / 1\n",
      "predict / true : 2 / 2\n",
      "predict / true : 0 / 0\n",
      "predict / true : 2 / 2\n",
      "predict / true : 1 / 1\n",
      "predict / true : 0 / 0\n",
      "predict / true : 2 / 2\n",
      "predict / true : 1 / 1\n",
      "predict / true : 0 / 0\n",
      "predict / true : 1 / 1\n",
      "predict / true : 0 / 0\n",
      "predict / true : 0 / 0\n",
      "predict / true : 0 / 0\n",
      "predict / true : 0 / 0\n",
      "predict / true : 1 / 2\n",
      "predict / true : 2 / 1\n",
      "predict / true : 2 / 2\n",
      "predict / true : 0 / 0\n",
      "predict / true : 0 / 0\n",
      "predict / true : 1 / 1\n"
     ]
    },
    {
     "data": {
      "text/plain": [
       "[None,\n",
       " None,\n",
       " None,\n",
       " None,\n",
       " None,\n",
       " None,\n",
       " None,\n",
       " None,\n",
       " None,\n",
       " None,\n",
       " None,\n",
       " None,\n",
       " None,\n",
       " None,\n",
       " None,\n",
       " None,\n",
       " None,\n",
       " None,\n",
       " None,\n",
       " None,\n",
       " None,\n",
       " None,\n",
       " None,\n",
       " None,\n",
       " None,\n",
       " None,\n",
       " None,\n",
       " None,\n",
       " None,\n",
       " None]"
      ]
     },
     "execution_count": 5,
     "metadata": {},
     "output_type": "execute_result"
    }
   ],
   "source": [
    "classifier = KNeighborsClassifier(n_neighbors=5)\n",
    "classifier.fit(train_data,train_label)\n",
    "predicted = classifier.predict(test_data)\n",
    "[print(\"predict / true : %s / %s\" % (str(predicted[i]), str(test_label[i]))) for i in range(len(predicted))]\n"
   ]
  },
  {
   "cell_type": "code",
   "execution_count": 6,
   "metadata": {},
   "outputs": [
    {
     "data": {
      "image/png": "[encoded data removed]",
      "text/plain": [
       "<Figure size 432x288 with 2 Axes>"
      ]
     },
     "metadata": {
      "needs_background": "light"
     },
     "output_type": "display_data"
    }
   ],
   "source": [
    "# Confusion Matrix\n",
    "disp = metrics.ConfusionMatrixDisplay.from_predictions(test_label, predicted)\n",
    "disp.figure_.suptitle(\"Confusion Matrix\")\n",
    "plt.show()"
   ]
  },
  {
   "cell_type": "code",
   "execution_count": 7,
   "metadata": {},
   "outputs": [
    {
     "name": "stdout",
     "output_type": "stream",
     "text": [
      "Classifier KNeighborsClassifier():\n",
      "              precision    recall  f1-score   support\n",
      "\n",
      "           0       1.00      1.00      1.00        12\n",
      "           1       0.91      0.91      0.91        11\n",
      "           2       0.86      0.86      0.86         7\n",
      "\n",
      "    accuracy                           0.93        30\n",
      "   macro avg       0.92      0.92      0.92        30\n",
      "weighted avg       0.93      0.93      0.93        30\n",
      "\n",
      "\n"
     ]
    }
   ],
   "source": [
    "# Accuracy, Precision, Recall, F1-score\n",
    "print(f\"Classifier {classifier}:\\n\"\n",
    "   f\"{metrics.classification_report(test_label, predicted)}\\n\"  )\n"
   ]
  },
  {
   "cell_type": "code",
   "execution_count": 9,
   "metadata": {},
   "outputs": [
    {
     "name": "stdout",
     "output_type": "stream",
     "text": [
      "Classifier KNeighborsClassifier(n_neighbors=3) n_neighbor = 3 :\n",
      "              precision    recall  f1-score   support\n",
      "\n",
      "           0       1.00      1.00      1.00        12\n",
      "           1       0.91      0.91      0.91        11\n",
      "           2       0.86      0.86      0.86         7\n",
      "\n",
      "    accuracy                           0.93        30\n",
      "   macro avg       0.92      0.92      0.92        30\n",
      "weighted avg       0.93      0.93      0.93        30\n",
      "\n",
      "\n",
      "Classifier KNeighborsClassifier(n_neighbors=7) n_neighbor = 7 :\n",
      "              precision    recall  f1-score   support\n",
      "\n",
      "           0       1.00      1.00      1.00        12\n",
      "           1       0.83      0.91      0.87        11\n",
      "           2       0.83      0.71      0.77         7\n",
      "\n",
      "    accuracy                           0.90        30\n",
      "   macro avg       0.89      0.87      0.88        30\n",
      "weighted avg       0.90      0.90      0.90        30\n",
      "\n",
      "\n",
      "Classifier KNeighborsClassifier(n_neighbors=9) n_neighbor = 9 :\n",
      "              precision    recall  f1-score   support\n",
      "\n",
      "           0       1.00      1.00      1.00        12\n",
      "           1       0.83      0.91      0.87        11\n",
      "           2       0.83      0.71      0.77         7\n",
      "\n",
      "    accuracy                           0.90        30\n",
      "   macro avg       0.89      0.87      0.88        30\n",
      "weighted avg       0.90      0.90      0.90        30\n",
      "\n",
      "\n",
      "Classifier KNeighborsClassifier(n_neighbors=11) n_neighbor = 11 :\n",
      "              precision    recall  f1-score   support\n",
      "\n",
      "           0       1.00      1.00      1.00        12\n",
      "           1       0.90      0.82      0.86        11\n",
      "           2       0.75      0.86      0.80         7\n",
      "\n",
      "    accuracy                           0.90        30\n",
      "   macro avg       0.88      0.89      0.89        30\n",
      "weighted avg       0.90      0.90      0.90        30\n",
      "\n",
      "\n",
      "Classifier KNeighborsClassifier(n_neighbors=13) n_neighbor = 13 :\n",
      "              precision    recall  f1-score   support\n",
      "\n",
      "           0       1.00      1.00      1.00        12\n",
      "           1       0.90      0.82      0.86        11\n",
      "           2       0.75      0.86      0.80         7\n",
      "\n",
      "    accuracy                           0.90        30\n",
      "   macro avg       0.88      0.89      0.89        30\n",
      "weighted avg       0.90      0.90      0.90        30\n",
      "\n",
      "\n"
     ]
    }
   ],
   "source": [
    "# 5 different n_neighbors : 3, 7, 9, 11, 13\n",
    "classifier = KNeighborsClassifier(n_neighbors=3)\n",
    "classifier.fit(train_data,train_label)\n",
    "predicted = classifier.predict(test_data)\n",
    "print(f\"Classifier {classifier} n_neighbor = 3 :\\n\"\n",
    "   f\"{metrics.classification_report(test_label, predicted)}\\n\"  )\n",
    "\n",
    "\n",
    "classifier = KNeighborsClassifier(n_neighbors=7)\n",
    "classifier.fit(train_data,train_label)\n",
    "predicted = classifier.predict(test_data)\n",
    "print(f\"Classifier {classifier} n_neighbor = 7 :\\n\"\n",
    "   f\"{metrics.classification_report(test_label, predicted)}\\n\"  )\n",
    "\n",
    "\n",
    "classifier = KNeighborsClassifier(n_neighbors=9)\n",
    "classifier.fit(train_data,train_label)\n",
    "predicted = classifier.predict(test_data)\n",
    "print(f\"Classifier {classifier} n_neighbor = 9 :\\n\"\n",
    "   f\"{metrics.classification_report(test_label, predicted)}\\n\"  )\n",
    "\n",
    "\n",
    "classifier = KNeighborsClassifier(n_neighbors=11)\n",
    "classifier.fit(train_data,train_label)\n",
    "predicted = classifier.predict(test_data)\n",
    "print(f\"Classifier {classifier} n_neighbor = 11 :\\n\"\n",
    "   f\"{metrics.classification_report(test_label, predicted)}\\n\"  )\n",
    "\n",
    "\n",
    "classifier = KNeighborsClassifier(n_neighbors=13)\n",
    "classifier.fit(train_data,train_label)\n",
    "predicted = classifier.predict(test_data)\n",
    "print(f\"Classifier {classifier} n_neighbor = 13 :\\n\"\n",
    "   f\"{metrics.classification_report(test_label, predicted)}\\n\"  )"
   ]
  },
  {
   "cell_type": "code",
   "execution_count": 20,
   "metadata": {},
   "outputs": [
    {
     "name": "stdout",
     "output_type": "stream",
     "text": [
      "Classifier SVC(gamma=0.01):\n",
      "              precision    recall  f1-score   support\n",
      "\n",
      "           0       1.00      1.00      1.00        12\n",
      "           1       0.91      0.91      0.91        11\n",
      "           2       0.86      0.86      0.86         7\n",
      "\n",
      "    accuracy                           0.93        30\n",
      "   macro avg       0.92      0.92      0.92        30\n",
      "weighted avg       0.93      0.93      0.93        30\n",
      "\n",
      "\n",
      "Classifier SVC(gamma=0.1):\n",
      "              precision    recall  f1-score   support\n",
      "\n",
      "           0       1.00      1.00      1.00        12\n",
      "           1       0.80      0.73      0.76        11\n",
      "           2       0.62      0.71      0.67         7\n",
      "\n",
      "    accuracy                           0.83        30\n",
      "   macro avg       0.81      0.81      0.81        30\n",
      "weighted avg       0.84      0.83      0.83        30\n",
      "\n",
      "\n"
     ]
    }
   ],
   "source": [
    "# SVM\n",
    "from sklearn import svm\n",
    "\n",
    "classifier = svm.SVC(gamma=0.01)\n",
    "classifier.fit(train_data, train_label)\n",
    "\n",
    "predicted = classifier.predict(test_data)\n",
    "\n",
    "print(f\"Classifier {classifier}:\\n\"\n",
    "   f\"{metrics.classification_report(test_label, predicted)}\\n\"  )\n",
    "\n",
    "classifier = svm.SVC(gamma=0.1)\n",
    "classifier.fit(train_data, train_label)\n",
    "\n",
    "predicted = classifier.predict(test_data)\n",
    "\n",
    "print(f\"Classifier {classifier}:\\n\"\n",
    "   f\"{metrics.classification_report(test_label, predicted)}\\n\"  )"
   ]
  },
  {
   "cell_type": "code",
   "execution_count": 24,
   "metadata": {},
   "outputs": [
    {
     "name": "stdout",
     "output_type": "stream",
     "text": [
      "Classifier DecisionTreeClassifier(max_depth=2):\n",
      "              precision    recall  f1-score   support\n",
      "\n",
      "           0       1.00      1.00      1.00        12\n",
      "           1       0.82      0.82      0.82        11\n",
      "           2       0.71      0.71      0.71         7\n",
      "\n",
      "    accuracy                           0.87        30\n",
      "   macro avg       0.84      0.84      0.84        30\n",
      "weighted avg       0.87      0.87      0.87        30\n",
      "\n",
      "\n",
      "Classifier DecisionTreeClassifier(max_depth=4):\n",
      "              precision    recall  f1-score   support\n",
      "\n",
      "           0       1.00      1.00      1.00        12\n",
      "           1       0.83      0.91      0.87        11\n",
      "           2       0.83      0.71      0.77         7\n",
      "\n",
      "    accuracy                           0.90        30\n",
      "   macro avg       0.89      0.87      0.88        30\n",
      "weighted avg       0.90      0.90      0.90        30\n",
      "\n",
      "\n"
     ]
    }
   ],
   "source": [
    "# Decision Trees\n",
    "from sklearn import tree\n",
    "\n",
    "classifier = tree.DecisionTreeClassifier(max_depth=2)\n",
    "classifier.fit(train_data, train_label)\n",
    "\n",
    "predicted = classifier.predict(test_data)\n",
    "\n",
    "print(f\"Classifier {classifier}:\\n\"\n",
    "   f\"{metrics.classification_report(test_label, predicted)}\\n\"  )\n",
    "\n",
    "classifier = tree.DecisionTreeClassifier(max_depth=4)\n",
    "classifier.fit(train_data, train_label)\n",
    "\n",
    "predicted = classifier.predict(test_data)\n",
    "\n",
    "print(f\"Classifier {classifier}:\\n\"\n",
    "   f\"{metrics.classification_report(test_label, predicted)}\\n\"  )"
   ]
  },
  {
   "cell_type": "code",
   "execution_count": 31,
   "metadata": {},
   "outputs": [
    {
     "name": "stdout",
     "output_type": "stream",
     "text": [
      "Classifier LogisticRegression(C=1):\n",
      "              precision    recall  f1-score   support\n",
      "\n",
      "           0       1.00      1.00      1.00        12\n",
      "           1       0.90      0.82      0.86        11\n",
      "           2       0.75      0.86      0.80         7\n",
      "\n",
      "    accuracy                           0.90        30\n",
      "   macro avg       0.88      0.89      0.89        30\n",
      "weighted avg       0.90      0.90      0.90        30\n",
      "\n",
      "\n",
      "Classifier LogisticRegression(C=2):\n",
      "              precision    recall  f1-score   support\n",
      "\n",
      "           0       1.00      1.00      1.00        12\n",
      "           1       0.89      0.73      0.80        11\n",
      "           2       0.67      0.86      0.75         7\n",
      "\n",
      "    accuracy                           0.87        30\n",
      "   macro avg       0.85      0.86      0.85        30\n",
      "weighted avg       0.88      0.87      0.87        30\n",
      "\n",
      "\n"
     ]
    }
   ],
   "source": [
    "# Logistic regression\n",
    "\n",
    "from sklearn import linear_model\n",
    "\n",
    "classifier = linear_model.LogisticRegression(penalty=\"l2\", C=1)\n",
    "classifier.fit(train_data, train_label)\n",
    "\n",
    "predicted = classifier.predict(test_data)\n",
    "\n",
    "print(f\"Classifier {classifier}:\\n\"\n",
    "   f\"{metrics.classification_report(test_label, predicted)}\\n\"  )\n",
    "\n",
    "classifier = linear_model.LogisticRegression(penalty=\"l2\", C=2)\n",
    "classifier.fit(train_data, train_label)\n",
    "\n",
    "predicted = classifier.predict(test_data)\n",
    "\n",
    "print(f\"Classifier {classifier}:\\n\"\n",
    "   f\"{metrics.classification_report(test_label, predicted)}\\n\"  )"
   ]
  }
 ],
 "metadata": {
  "kernelspec": {
   "display_name": "Python 3.10.5 64-bit",
   "language": "python",
   "name": "python3"
  },
  "language_info": {
   "codemirror_mode": {
    "name": "ipython",
    "version": 3
   },
   "file_extension": ".py",
   "mimetype": "text/x-python",
   "name": "python",
   "nbconvert_exporter": "python",
   "pygments_lexer": "ipython3",
   "version": "3.10.5"
  },
  "orig_nbformat": 4,
  "vscode": {
   "interpreter": {
    "hash": "9b026ef4d6ecbb404296daafee6534be177acf4a79b21c81830308c81ca0f459"
   }
  }
 },
 "nbformat": 4,
 "nbformat_minor": 2
}
